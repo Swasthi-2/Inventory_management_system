{
 "cells": [
  {
   "cell_type": "code",
   "execution_count": 1,
   "metadata": {},
   "outputs": [],
   "source": [
    "import pandas as pd\n",
    "\n",
    "class InventoryManager:\n",
    "    def __init__(self):\n",
    "        # Initialize the inventory with empty dataframe\n",
    "        self.inventory = pd.DataFrame(columns=['Item_ID', 'Item_Name', 'Category', 'Stock_Quantity', 'Price'])\n",
    "\n",
    "    def add_item(self, item_id, item_name, category, quantity, price):\n",
    "        # Check if item exists in inventory\n",
    "        if item_id in self.inventory['Item_ID'].values:\n",
    "            print(f\"Item with ID {item_id} already exists. Use update_item to modify stock.\")\n",
    "        else:\n",
    "            # Add new item to inventory\n",
    "            new_item = {'Item_ID': item_id, 'Item_Name': item_name, 'Category': category, \n",
    "                        'Stock_Quantity': quantity, 'Price': price}\n",
    "            self.inventory = self.inventory.append(new_item, ignore_index=True)\n",
    "            print(f\"Item {item_name} added successfully!\")\n",
    "\n",
    "    def remove_item(self, item_id):\n",
    "        # Check if the item exists before removing\n",
    "        if item_id in self.inventory['Item_ID'].values:\n",
    "            self.inventory = self.inventory[self.inventory['Item_ID'] != item_id]\n",
    "            print(f\"Item with ID {item_id} removed successfully!\")\n",
    "        else:\n",
    "            print(f\"Item with ID {item_id} does not exist.\")\n",
    "\n",
    "    def update_stock(self, item_id, new_quantity):\n",
    "        # Update stock quantity of a given item\n",
    "        if item_id in self.inventory['Item_ID'].values:\n",
    "            self.inventory.loc[self.inventory['Item_ID'] == item_id, 'Stock_Quantity'] = new_quantity\n",
    "            print(f\"Item with ID {item_id} updated with new quantity: {new_quantity}\")\n",
    "        else:\n",
    "            print(f\"Item with ID {item_id} not found in inventory.\")\n",
    "\n",
    "    def low_stock_report(self, threshold):\n",
    "        # Generate report for items with stock below the threshold\n",
    "        low_stock_items = self.inventory[self.inventory['Stock_Quantity'] < threshold]\n",
    "        if not low_stock_items.empty:\n",
    "            print(\"Low Stock Items:\")\n",
    "            print(low_stock_items)\n",
    "        else:\n",
    "            print(\"No items with low stock.\")\n",
    "\n",
    "    def show_inventory(self):\n",
    "        # Show the current inventory\n",
    "        print(\"Current Inventory:\")\n",
    "        print(self.inventory)\n"
   ]
  }
 ],
 "metadata": {
  "kernelspec": {
   "display_name": "Python 3",
   "language": "python",
   "name": "python3"
  },
  "language_info": {
   "codemirror_mode": {
    "name": "ipython",
    "version": 3
   },
   "file_extension": ".py",
   "mimetype": "text/x-python",
   "name": "python",
   "nbconvert_exporter": "python",
   "pygments_lexer": "ipython3",
   "version": "3.11.9"
  }
 },
 "nbformat": 4,
 "nbformat_minor": 2
}
