{
 "cells": [
  {
   "cell_type": "code",
   "execution_count": 9,
   "metadata": {},
   "outputs": [
    {
     "name": "stdout",
     "output_type": "stream",
     "text": [
      "   Item_ID Item Name     Category  Stock_Quantity   Price\n",
      "0        1    Laptop  Electronics              10  999.99\n",
      "1        2     Mouse  Electronics              25   19.99\n",
      "2        3  Keyboard  Electronics              15   49.99\n",
      "3        4   Monitor  Electronics               8  199.99\n",
      "4        5      Desk    Furniture              12  150.00\n",
      "                                                                             \n",
      "Generation 1 - Current best internal CV score: -103.74905220281221\n",
      "                                                                              \n",
      "Generation 2 - Current best internal CV score: -99.6973150596743\n",
      "                                                                              \n",
      "Generation 3 - Current best internal CV score: -85.91647141405288\n",
      "                                                                              \n",
      "Generation 4 - Current best internal CV score: -84.36958581742552\n",
      "                                                                              \n",
      "Generation 5 - Current best internal CV score: -84.36958581742552\n",
      "                                                                              \n",
      "Best pipeline: RandomForestRegressor(Nystroem(input_matrix, gamma=0.2, kernel=linear, n_components=5), bootstrap=False, max_features=0.35000000000000003, min_samples_leaf=4, min_samples_split=4, n_estimators=100)\n",
      "Model score on test data: -358.34980599167363\n"
     ]
    }
   ],
   "source": [
    "# Import necessary libraries\n",
    "import pandas as pd\n",
    "from sklearn.model_selection import train_test_split\n",
    "from tpot import TPOTRegressor\n",
    "\n",
    "# Load dataset\n",
    "df = pd.read_csv(\"C:/Users/swast/OneDrive/Desktop/inventory_management/data/Inventory_management.csv\")\n",
    "\n",
    "# Display the first few rows of the dataset\n",
    "print(df.head())\n",
    "\n",
    "# Preprocessing: Assuming Stock_Quantity as the target variable\n",
    "# Feature selection (dropping columns that may not be relevant for prediction)\n",
    "X = df.drop(columns=['Item_ID', 'Item Name', 'Stock_Quantity'])  # Features\n",
    "y = df['Stock_Quantity']  # Target (Stock_Quantity)\n",
    "\n",
    "# Convert categorical variables to numerical using one-hot encoding\n",
    "X = pd.get_dummies(X, drop_first=True)\n",
    "\n",
    "# Train-test split\n",
    "X_train, X_test, y_train, y_test = train_test_split(X, y, test_size=0.2, random_state=42)\n",
    "\n",
    "# Initialize TPOT AutoML model\n",
    "tpot = TPOTRegressor(verbosity=2, generations=5, population_size=50, random_state=42)\n",
    "\n",
    "# Train the model\n",
    "tpot.fit(X_train, y_train)\n",
    "\n",
    "# Evaluate the model\n",
    "print(f'Model score on test data: {tpot.score(X_test, y_test)}')\n",
    "\n",
    "# Export the best model\n",
    "tpot.export('best_inventory_predictor.py')\n"
   ]
  }
 ],
 "metadata": {
  "kernelspec": {
   "display_name": "Python 3",
   "language": "python",
   "name": "python3"
  },
  "language_info": {
   "codemirror_mode": {
    "name": "ipython",
    "version": 3
   },
   "file_extension": ".py",
   "mimetype": "text/x-python",
   "name": "python",
   "nbconvert_exporter": "python",
   "pygments_lexer": "ipython3",
   "version": "3.11.9"
  }
 },
 "nbformat": 4,
 "nbformat_minor": 2
}
