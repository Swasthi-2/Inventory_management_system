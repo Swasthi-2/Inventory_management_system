{
 "cells": [
  {
   "cell_type": "code",
   "execution_count": 7,
   "metadata": {},
   "outputs": [],
   "source": [
    "import pandas as pd\n",
    "\n",
    "class InventoryManager:\n",
    "    def __init__(self, file_path):\n",
    "        # Load the dataset\n",
    "        self.inventory = pd.read_csv(\"C:/Users/swast/OneDrive/Desktop/inventory_management/Inventory_management.csv\")\n",
    "\n",
    "    def add_item(self, item_id, item_name, category, stock_quantity, price):\n",
    "        # Add a new item to the inventory\n",
    "        new_item = {'Item_ID': item_id, 'Item Name': item_name, 'Category': category,\n",
    "                    'Stock_Quantity': stock_quantity, 'Price': price}\n",
    "        self.inventory = self.inventory.append(new_item, ignore_index=True)\n",
    "\n",
    "    def remove_item(self, item_id):\n",
    "        # Remove an item based on Item_ID\n",
    "        self.inventory = self.inventory[self.inventory['Item_ID'] != item_id]\n",
    "\n",
    "    def update_stock(self, item_id, new_stock):\n",
    "        # Update the stock quantity of an item\n",
    "        self.inventory.loc[self.inventory['Item_ID'] == item_id, 'Stock_Quantity'] = new_stock\n",
    "\n",
    "    def generate_low_stock_report(self, threshold):\n",
    "        # Generate a report of items that have stock below the threshold\n",
    "        return self.inventory[self.inventory['Stock_Quantity'] < threshold]\n",
    "\n",
    "    def get_inventory(self):\n",
    "        # Return the current inventory data\n",
    "        return self.inventory"
   ]
  },
  {
   "cell_type": "code",
   "execution_count": 8,
   "metadata": {},
   "outputs": [
    {
     "name": "stdout",
     "output_type": "stream",
     "text": [
      "Mock inventory dataset created and saved as mock_inventory.csv.\n"
     ]
    }
   ],
   "source": [
    "import pandas as pd\n",
    "\n",
    "# Define the mock inventory dataset\n",
    "data = {\n",
    "    'Item_ID': [1, 2, 3, 4, 5],\n",
    "    'Item Name': ['Laptop', 'Smartphone', 'Tablet', 'Monitor', 'Keyboard'],\n",
    "    'Category': ['Electronics', 'Electronics', 'Electronics', 'Electronics', 'Accessories'],\n",
    "    'Stock_Quantity': [10, 5, 2, 7, 15],\n",
    "    'Price': [1000, 600, 300, 200, 50]\n",
    "}\n",
    "\n",
    "# Create a DataFrame\n",
    "mock_inventory_df = pd.DataFrame(data)\n",
    "\n",
    "# Specify the file path for saving the CSV file\n",
    "file_path = 'mock_inventory.csv'  # You can specify the path as needed\n",
    "\n",
    "# Save the DataFrame as a CSV file\n",
    "mock_inventory_df.to_csv(file_path, index=False)\n",
    "\n",
    "print(f\"Mock inventory dataset created and saved as {file_path}.\")"
   ]
  },
  {
   "cell_type": "code",
   "execution_count": 10,
   "metadata": {},
   "outputs": [
    {
     "ename": "TypeError",
     "evalue": "expected str, bytes or os.PathLike object, not type",
     "output_type": "error",
     "traceback": [
      "\u001b[1;31m---------------------------------------------------------------------------\u001b[0m",
      "\u001b[1;31mTypeError\u001b[0m                                 Traceback (most recent call last)",
      "Cell \u001b[1;32mIn[10], line 5\u001b[0m\n\u001b[0;32m      3\u001b[0m \u001b[38;5;28;01mimport\u001b[39;00m \u001b[38;5;21;01msys\u001b[39;00m\n\u001b[0;32m      4\u001b[0m \u001b[38;5;28;01mimport\u001b[39;00m \u001b[38;5;21;01mos\u001b[39;00m\n\u001b[1;32m----> 5\u001b[0m sys\u001b[38;5;241m.\u001b[39mpath\u001b[38;5;241m.\u001b[39mappend(os\u001b[38;5;241m.\u001b[39mpath\u001b[38;5;241m.\u001b[39mabspath(os\u001b[38;5;241m.\u001b[39mpath\u001b[38;5;241m.\u001b[39mjoin(\u001b[43mos\u001b[49m\u001b[38;5;241;43m.\u001b[39;49m\u001b[43mpath\u001b[49m\u001b[38;5;241;43m.\u001b[39;49m\u001b[43mdirname\u001b[49m\u001b[43m(\u001b[49m\u001b[43mInventoryManager\u001b[49m\u001b[43m)\u001b[49m, \u001b[38;5;124m'\u001b[39m\u001b[38;5;124m..\u001b[39m\u001b[38;5;124m'\u001b[39m, \u001b[38;5;124m'\u001b[39m\u001b[38;5;124msrc\u001b[39m\u001b[38;5;124m'\u001b[39m)))\n\u001b[0;32m      7\u001b[0m \u001b[38;5;28;01mfrom\u001b[39;00m \u001b[38;5;21;01minventory_manager\u001b[39;00m \u001b[38;5;28;01mimport\u001b[39;00m InventoryManager\n\u001b[0;32m      9\u001b[0m \u001b[38;5;28;01mclass\u001b[39;00m \u001b[38;5;21;01mTestInventoryManager\u001b[39;00m(unittest\u001b[38;5;241m.\u001b[39mTestCase):\n",
      "File \u001b[1;32m<frozen ntpath>:251\u001b[0m, in \u001b[0;36mdirname\u001b[1;34m(p)\u001b[0m\n",
      "File \u001b[1;32m<frozen ntpath>:213\u001b[0m, in \u001b[0;36msplit\u001b[1;34m(p)\u001b[0m\n",
      "\u001b[1;31mTypeError\u001b[0m: expected str, bytes or os.PathLike object, not type"
     ]
    }
   ],
   "source": [
    "import unittest\n",
    "import pandas as pd\n",
    "import sys\n",
    "import os\n",
    "sys.path.append(os.path.abspath(os.path.join(os.path.dirname(InventoryManager), '..', 'src')))\n",
    "\n",
    "from inventory_manager import InventoryManager\n",
    "\n",
    "class TestInventoryManager(unittest.TestCase):\n",
    "\n",
    "    @classmethod\n",
    "    def setUpClass(cls):\n",
    "        # Create a mock inventory dataset\n",
    "        data = {\n",
    "            'Item_ID': [1, 2, 3],\n",
    "            'Item Name': ['Laptop', 'Smartphone', 'Tablet'],\n",
    "            'Category': ['Electronics', 'Electronics', 'Electronics'],\n",
    "            'Stock_Quantity': [10, 5, 2],\n",
    "            'Price': [1000, 600, 300]\n",
    "        }\n",
    "        df = pd.DataFrame(data)\n",
    "        # Save this as a CSV for testing\n",
    "        cls.test_file = 'C:/Users/swast/OneDrive/Desktop/inventory_management/test _case/mock_inventory.csv'\n",
    "        df.to_csv(cls.test_file, index=False)\n",
    "\n",
    "    def setUp(self):\n",
    "        # Initialize the InventoryManager with the test file\n",
    "        self.manager = InventoryManager(self.test_file)\n",
    "\n",
    "    def test_add_item(self):\n",
    "        # Test adding a new item\n",
    "        self.manager.add_item(4, 'Monitor', 'Electronics', 7, 150)\n",
    "        inventory = self.manager.get_inventory()\n",
    "        self.assertEqual(len(inventory), 4)\n",
    "        self.assertEqual(inventory.iloc[-1]['Item Name'], 'Monitor')\n",
    "\n",
    "    def test_remove_item(self):\n",
    "        # Test removing an item by ID\n",
    "        self.manager.remove_item(2)\n",
    "        inventory = self.manager.get_inventory()\n",
    "        self.assertEqual(len(inventory), 2)\n",
    "        self.assertNotIn(2, inventory['Item_ID'].values)\n",
    "\n",
    "    def test_update_stock(self):\n",
    "        # Test updating stock quantity\n",
    "        self.manager.update_stock(1, 20)\n",
    "        inventory = self.manager.get_inventory()\n",
    "        self.assertEqual(inventory[inventory['Item_ID'] == 1]['Stock_Quantity'].values[0], 20)\n",
    "\n",
    "    def test_generate_low_stock_report(self):\n",
    "        # Test generating a low-stock report\n",
    "        report = self.manager.generate_low_stock_report(threshold=5)\n",
    "        self.assertEqual(len(report), 2)\n",
    "        self.assertIn('Tablet', report['Item Name'].values)\n",
    "\n",
    "if __name__ == '__main__':\n",
    "    unittest.main()"
   ]
  }
 ],
 "metadata": {
  "kernelspec": {
   "display_name": "Python 3",
   "language": "python",
   "name": "python3"
  },
  "language_info": {
   "codemirror_mode": {
    "name": "ipython",
    "version": 3
   },
   "file_extension": ".py",
   "mimetype": "text/x-python",
   "name": "python",
   "nbconvert_exporter": "python",
   "pygments_lexer": "ipython3",
   "version": "3.11.9"
  }
 },
 "nbformat": 4,
 "nbformat_minor": 2
}
